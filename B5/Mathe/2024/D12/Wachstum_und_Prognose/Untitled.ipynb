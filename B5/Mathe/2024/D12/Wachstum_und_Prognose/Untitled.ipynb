{
 "cells": [
  {
   "cell_type": "code",
   "execution_count": 1,
   "id": "79a0a043",
   "metadata": {},
   "outputs": [],
   "source": [
    "import matplotlib.pyplot as plt\n",
    "import pandas as pd\n",
    "import numpy as np"
   ]
  },
  {
   "cell_type": "code",
   "execution_count": 40,
   "id": "ea392524",
   "metadata": {},
   "outputs": [],
   "source": [
    "x1 = np.arange(0,11,1)\n",
    "n = np.array(range(len(x1)))\n",
    "y1 = 100*1.16**n\n",
    "\n",
    "\n",
    "x2 = np.arange(0,41,1)\n",
    "n2 = np.array(range(len(x2)))\n",
    "y2 = 100*1.04**n2\n"
   ]
  },
  {
   "cell_type": "code",
   "execution_count": 53,
   "id": "3aa484bf",
   "metadata": {},
   "outputs": [
    {
     "data": {
      "text/plain": [
       "Text(0.5, 0, 'Zeit/Jahr')"
      ]
     },
     "execution_count": 53,
     "metadata": {},
     "output_type": "execute_result"
    },
    {
     "data": {
      "image/png": "[encoded data removed]",
      "text/plain": [
       "<Figure size 432x288 with 1 Axes>"
      ]
     },
     "metadata": {
      "needs_background": "light"
     },
     "output_type": "display_data"
    }
   ],
   "source": [
    "plt.plot(x1, y1, 'x-', label='Bank of England')\n",
    "plt.plot(x2/4, y2, 'x-', label= 'Bank of Scotland')\n",
    "\n",
    "\n",
    "plt.legend()\n",
    "plt.ylabel('Kontostand/EUR')\n",
    "plt.xlabel('Zeit/Jahr')"
   ]
  },
  {
   "cell_type": "code",
   "execution_count": 12,
   "id": "2b466a8e",
   "metadata": {},
   "outputs": [
    {
     "data": {
      "text/plain": [
       "array([ 0.        ,  1.16      ,  2.6912    ,  4.682688  ,  7.24255744,\n",
       "       10.50170829, 14.61837794, 19.78353814, 26.22731914, 34.22665147,\n",
       "       44.11435079])"
      ]
     },
     "execution_count": 12,
     "metadata": {},
     "output_type": "execute_result"
    }
   ],
   "source": [
    "y1"
   ]
  },
  {
   "cell_type": "code",
   "execution_count": 13,
   "id": "3fbfe870",
   "metadata": {},
   "outputs": [
    {
     "data": {
      "text/plain": [
       "1.3456"
      ]
     },
     "execution_count": 13,
     "metadata": {},
     "output_type": "execute_result"
    }
   ],
   "source": [
    "1.16**2"
   ]
  },
  {
   "cell_type": "code",
   "execution_count": 15,
   "id": "73ef793d",
   "metadata": {},
   "outputs": [
    {
     "data": {
      "text/plain": [
       "array([1.16    , 1.3456  , 1.560896])"
      ]
     },
     "execution_count": 15,
     "metadata": {},
     "output_type": "execute_result"
    }
   ],
   "source": [
    "1.16**(np.array([1,2,3]))"
   ]
  },
  {
   "cell_type": "code",
   "execution_count": 17,
   "id": "5e27ea5e",
   "metadata": {},
   "outputs": [
    {
     "data": {
      "text/plain": [
       "array([1.        , 1.16      , 1.3456    , 1.560896  , 1.81063936,\n",
       "       2.10034166, 2.43639632, 2.82621973, 3.27841489, 3.80296127,\n",
       "       4.41143508])"
      ]
     },
     "execution_count": 17,
     "metadata": {},
     "output_type": "execute_result"
    }
   ],
   "source": [
    "1.16**n"
   ]
  },
  {
   "cell_type": "code",
   "execution_count": 50,
   "id": "10be83af",
   "metadata": {},
   "outputs": [
    {
     "name": "stdout",
     "output_type": "stream",
     "text": [
      "|    |   Zeit (Jahren) |   Kontostand Bank of England |\n",
      "|---:|----------------:|-----------------------------:|\n",
      "|  0 |               0 |                      100     |\n",
      "|  1 |               1 |                      116     |\n",
      "|  2 |               2 |                      134.56  |\n",
      "|  3 |               3 |                      156.09  |\n",
      "|  4 |               4 |                      181.064 |\n",
      "|  5 |               5 |                      210.034 |\n",
      "|  6 |               6 |                      243.64  |\n",
      "|  7 |               7 |                      282.622 |\n",
      "|  8 |               8 |                      327.841 |\n",
      "|  9 |               9 |                      380.296 |\n",
      "| 10 |              10 |                      441.144 |\n"
     ]
    }
   ],
   "source": [
    "df = pd.DataFrame({'Zeit (Jahren)':x1, 'Kontostand Bank of England':y1})\n",
    "print(df.to_markdown()) "
   ]
  },
  {
   "cell_type": "code",
   "execution_count": 52,
   "id": "3b29b02c",
   "metadata": {},
   "outputs": [
    {
     "name": "stdout",
     "output_type": "stream",
     "text": [
      "|    |   Zeit (Jahren) |   Bank of Scotland |\n",
      "|---:|----------------:|-------------------:|\n",
      "|  0 |            0    |            100     |\n",
      "|  1 |            0.25 |            104     |\n",
      "|  2 |            0.5  |            108.16  |\n",
      "|  3 |            0.75 |            112.486 |\n",
      "|  4 |            1    |            116.986 |\n",
      "|  5 |            1.25 |            121.665 |\n",
      "|  6 |            1.5  |            126.532 |\n",
      "|  7 |            1.75 |            131.593 |\n",
      "|  8 |            2    |            136.857 |\n",
      "|  9 |            2.25 |            142.331 |\n",
      "| 10 |            2.5  |            148.024 |\n",
      "| 11 |            2.75 |            153.945 |\n",
      "| 12 |            3    |            160.103 |\n",
      "| 13 |            3.25 |            166.507 |\n",
      "| 14 |            3.5  |            173.168 |\n",
      "| 15 |            3.75 |            180.094 |\n",
      "| 16 |            4    |            187.298 |\n",
      "| 17 |            4.25 |            194.79  |\n",
      "| 18 |            4.5  |            202.582 |\n",
      "| 19 |            4.75 |            210.685 |\n",
      "| 20 |            5    |            219.112 |\n",
      "| 21 |            5.25 |            227.877 |\n",
      "| 22 |            5.5  |            236.992 |\n",
      "| 23 |            5.75 |            246.472 |\n",
      "| 24 |            6    |            256.33  |\n",
      "| 25 |            6.25 |            266.584 |\n",
      "| 26 |            6.5  |            277.247 |\n",
      "| 27 |            6.75 |            288.337 |\n",
      "| 28 |            7    |            299.87  |\n",
      "| 29 |            7.25 |            311.865 |\n",
      "| 30 |            7.5  |            324.34  |\n",
      "| 31 |            7.75 |            337.313 |\n",
      "| 32 |            8    |            350.806 |\n",
      "| 33 |            8.25 |            364.838 |\n",
      "| 34 |            8.5  |            379.432 |\n",
      "| 35 |            8.75 |            394.609 |\n",
      "| 36 |            9    |            410.393 |\n",
      "| 37 |            9.25 |            426.809 |\n",
      "| 38 |            9.5  |            443.881 |\n",
      "| 39 |            9.75 |            461.637 |\n",
      "| 40 |           10    |            480.102 |\n"
     ]
    }
   ],
   "source": [
    "df = pd.DataFrame({'Zeit (Jahren)':x2/4, 'Bank of Scotland':y2})\n",
    "print(df.to_markdown()) "
   ]
  },
  {
   "cell_type": "code",
   "execution_count": 51,
   "id": "36a464c3",
   "metadata": {},
   "outputs": [
    {
     "data": {
      "text/plain": [
       "441.14350786499125"
      ]
     },
     "execution_count": 51,
     "metadata": {},
     "output_type": "execute_result"
    }
   ],
   "source": [
    "100*1.16**10"
   ]
  },
  {
   "cell_type": "code",
   "execution_count": null,
   "id": "b33ffc30",
   "metadata": {},
   "outputs": [],
   "source": []
  }
 ],
 "metadata": {
  "kernelspec": {
   "display_name": "Python 3",
   "language": "python",
   "name": "python3"
  },
  "language_info": {
   "codemirror_mode": {
    "name": "ipython",
    "version": 3
   },
   "file_extension": ".py",
   "mimetype": "text/x-python",
   "name": "python",
   "nbconvert_exporter": "python",
   "pygments_lexer": "ipython3",
   "version": "3.8.8"
  }
 },
 "nbformat": 4,
 "nbformat_minor": 5
}
